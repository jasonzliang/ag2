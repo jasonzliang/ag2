{
 "cells": [
  {
   "cell_type": "markdown",
   "metadata": {},
   "source": [
    "# WebSurferAgent\n",
    "\n",
    "In [`browser-use tool`](https://github.com/ag2ai/ag2/blob/main/notebook/tools_browser_use.ipynb) and [`crawl4ai tool`](https://github.com/ag2ai/ag2/blob/main/notebook/tools_crawl4ai.ipynb) notebooks, we demonstrated how to create Agents with basic web surfing capabilities.\n",
    "\n",
    "Now, we're taking it a step further with `WebSurferAgent`—a powerful agent equipped with built-in web surfing tools right out of the box!"
   ]
  },
  {
   "cell_type": "markdown",
   "metadata": {},
   "source": [
    "## WebSurferAgent with `browser-use` tool\n",
    "\n",
    "### Installation\n",
    "\n",
    "To get started with the `browser-use` integration in AG2, follow these steps:\n",
    "\n",
    "1. Install AG2 with the `browser-use` extra:\n",
    "   ```bash\n",
    "   pip install ag2[browser-use]\n",
    "   ````\n",
    "2. Set up Playwright:\n",
    "   \n",
    "   ```bash\n",
    "   playwright install\n",
    "   ```\n",
    "\n",
    "3. For running the code in Jupyther, use `nest_asyncio` to allow nested event loops.\n",
    "    ```bash\n",
    "    pip install nest_asyncio\n",
    "    ```\n",
    "\n",
    "\n",
    "You're all set! Now you can start using browsing features in AG2.\n",
    "\n",
    "\n",
    "### Imports"
   ]
  },
  {
   "cell_type": "code",
   "execution_count": null,
   "metadata": {},
   "outputs": [],
   "source": [
    "import os\n",
    "\n",
    "import nest_asyncio\n",
    "\n",
    "from autogen.agentchat import UserProxyAgent\n",
    "from autogen.agents import WebSurferAgent\n",
    "\n",
    "nest_asyncio.apply()"
   ]
  },
  {
   "cell_type": "markdown",
   "metadata": {},
   "source": [
    "### `browser-use` WebSurferAgent"
   ]
  },
  {
   "cell_type": "code",
   "execution_count": null,
   "metadata": {},
   "outputs": [],
   "source": [
    "config_list = [{\"model\": \"gpt-4o-mini\", \"api_key\": os.environ[\"OPENAI_API_KEY\"]}]\n",
    "\n",
    "llm_config = {\n",
    "    \"config_list\": config_list,\n",
    "}\n",
    "\n",
    "user_proxy = UserProxyAgent(name=\"user_proxy\", human_input_mode=\"NEVER\")\n",
    "websurfer = WebSurferAgent(name=\"WebSurfer\", llm_config=llm_config, web_tool=\"browser_use\")\n",
    "\n",
    "websurfer_tools = websurfer.tools\n",
    "# WebSurferAgent has a list of tools which are registered for LLM\n",
    "# We need to register the tools for execution with the UserProxyAgent\n",
    "for tool in websurfer_tools:\n",
    "    tool.register_for_execution(user_proxy)"
   ]
  },
  {
   "cell_type": "code",
   "execution_count": null,
   "metadata": {},
   "outputs": [],
   "source": [
    "user_proxy.initiate_chat(\n",
    "    recipient=websurfer,\n",
    "    message=\"Get info from https://docs.ag2.ai/docs/Home\",\n",
    "    max_turns=2,\n",
    ")"
   ]
  },
  {
   "cell_type": "markdown",
   "metadata": {},
   "source": [
    "## WebSurferAgent with `crawl4ai` tool\n",
    "\n",
    "### Installation\n",
    "\n",
    "To get started with the `crawl4ai` integration in AG2, follow these steps:\n",
    "\n",
    "1. Install AG2 with the `crawl4ai` extra:\n",
    "   ```bash\n",
    "   pip install ag2[crawl4ai]\n",
    "   ````\n",
    "2. Set up Playwright:\n",
    "   \n",
    "   ```bash\n",
    "   playwright install\n",
    "   ```\n",
    "\n",
    "3. For running the code in Jupyther, use `nest_asyncio` to allow nested event loops.\n",
    "    ```bash\n",
    "    pip install nest_asyncio\n",
    "    ```\n",
    "\n",
    "\n",
    "You're all set! Now you can start using browsing features in AG2.\n",
    "\n",
    "\n",
    "### Imports"
   ]
  },
  {
   "cell_type": "code",
   "execution_count": 1,
   "metadata": {},
   "outputs": [],
   "source": [
    "import os\n",
    "\n",
    "import nest_asyncio\n",
    "\n",
    "from autogen.agentchat import UserProxyAgent\n",
    "from autogen.agents import WebSurferAgent\n",
    "\n",
    "nest_asyncio.apply()"
   ]
  },
  {
   "cell_type": "markdown",
   "metadata": {},
   "source": [
    "### Crawl4AI WebSurferAgent\n",
    "\n",
    "The ONLY difference is the `web_tool` parameter which needs to be set to `crawl4ai`\n"
   ]
  },
  {
   "cell_type": "code",
   "execution_count": null,
   "metadata": {},
   "outputs": [],
   "source": [
    "config_list = [{\"model\": \"gpt-4o-mini\", \"api_key\": os.environ[\"OPENAI_API_KEY\"]}]\n",
    "\n",
    "llm_config = {\n",
    "    \"config_list\": config_list,\n",
    "}\n",
    "\n",
    "user_proxy = UserProxyAgent(name=\"user_proxy\", human_input_mode=\"NEVER\")\n",
    "websurfer = WebSurferAgent(name=\"WebSurfer\", llm_config=llm_config, web_tool=\"crawl4ai\")\n",
    "\n",
    "websurfer_tools = websurfer.tools\n",
    "# WebSurferAgent has a list of tools which are registered for LLM\n",
    "# We need to register the tools for execution with the UserProxyAgent\n",
    "for tool in websurfer_tools:\n",
    "    tool.register_for_execution(user_proxy)"
   ]
  },
  {
   "cell_type": "code",
   "execution_count": null,
   "metadata": {},
   "outputs": [],
   "source": [
    "user_proxy.initiate_chat(\n",
    "    recipient=websurfer,\n",
    "    message=\"Get info from https://docs.ag2.ai/docs/Home\",\n",
    "    max_turns=2,\n",
    ")"
   ]
  }
 ],
 "metadata": {
  "front_matter": {
   "description": "WebSurfer Agent",
   "tags": [
    "agents",
    "browser-use",
    "crawl4ai",
    "webscraping",
    "function calling"
   ]
  },
  "kernelspec": {
   "display_name": ".venv-crawl4ai",
   "language": "python",
   "name": "python3"
  },
  "language_info": {
   "codemirror_mode": {
    "name": "ipython",
    "version": 3
   },
   "file_extension": ".py",
   "mimetype": "text/x-python",
   "name": "python",
   "nbconvert_exporter": "python",
   "pygments_lexer": "ipython3",
   "version": "3.11.8"
  }
 },
 "nbformat": 4,
 "nbformat_minor": 2
}
